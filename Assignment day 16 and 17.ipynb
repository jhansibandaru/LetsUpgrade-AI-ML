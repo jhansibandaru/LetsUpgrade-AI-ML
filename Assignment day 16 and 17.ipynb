{
 "cells": [
  {
   "cell_type": "code",
   "execution_count": 60,
   "metadata": {},
   "outputs": [],
   "source": [
    "%matplotlib inline\n",
    "import pandas as pd"
   ]
  },
  {
   "cell_type": "code",
   "execution_count": null,
   "metadata": {},
   "outputs": [],
   "source": [
    "from IPython.core.display import HTML\n",
    "css = open('style-table.css').read() + open('style-notebook.css').read()\n",
    "HTML('<style>{}</style>'.format(css))"
   ]
  },
  {
   "cell_type": "code",
   "execution_count": 61,
   "metadata": {},
   "outputs": [
    {
     "data": {
      "text/html": [
       "<div>\n",
       "<style scoped>\n",
       "    .dataframe tbody tr th:only-of-type {\n",
       "        vertical-align: middle;\n",
       "    }\n",
       "\n",
       "    .dataframe tbody tr th {\n",
       "        vertical-align: top;\n",
       "    }\n",
       "\n",
       "    .dataframe thead th {\n",
       "        text-align: right;\n",
       "    }\n",
       "</style>\n",
       "<table border=\"1\" class=\"dataframe\">\n",
       "  <thead>\n",
       "    <tr style=\"text-align: right;\">\n",
       "      <th></th>\n",
       "      <th>title</th>\n",
       "      <th>year</th>\n",
       "    </tr>\n",
       "  </thead>\n",
       "  <tbody>\n",
       "    <tr>\n",
       "      <th>0</th>\n",
       "      <td>Tasveer Mere Sanam</td>\n",
       "      <td>1996</td>\n",
       "    </tr>\n",
       "    <tr>\n",
       "      <th>1</th>\n",
       "      <td>Only You</td>\n",
       "      <td>1994</td>\n",
       "    </tr>\n",
       "    <tr>\n",
       "      <th>2</th>\n",
       "      <td>El pueblo del terror</td>\n",
       "      <td>1970</td>\n",
       "    </tr>\n",
       "    <tr>\n",
       "      <th>3</th>\n",
       "      <td>Machine</td>\n",
       "      <td>2007</td>\n",
       "    </tr>\n",
       "    <tr>\n",
       "      <th>4</th>\n",
       "      <td>MARy</td>\n",
       "      <td>2008</td>\n",
       "    </tr>\n",
       "  </tbody>\n",
       "</table>\n",
       "</div>"
      ],
      "text/plain": [
       "                  title  year\n",
       "0    Tasveer Mere Sanam  1996\n",
       "1              Only You  1994\n",
       "2  El pueblo del terror  1970\n",
       "3               Machine  2007\n",
       "4                  MARy  2008"
      ]
     },
     "execution_count": 61,
     "metadata": {},
     "output_type": "execute_result"
    }
   ],
   "source": [
    "titles = pd.read_csv('titles.csv')\n",
    "titles.head()"
   ]
  },
  {
   "cell_type": "markdown",
   "metadata": {
    "collapsed": true
   },
   "source": [
    "### How many movies are listed in the titles dataframe?"
   ]
  },
  {
   "cell_type": "code",
   "execution_count": 62,
   "metadata": {},
   "outputs": [
    {
     "name": "stdout",
     "output_type": "stream",
     "text": [
      "No.of movies listed = 244914\n"
     ]
    }
   ],
   "source": [
    "print(\"No.of movies listed =\",titles[\"title\"].count())"
   ]
  },
  {
   "cell_type": "markdown",
   "metadata": {
    "collapsed": true
   },
   "source": [
    "### What are the earliest two films listed in the titles dataframe?"
   ]
  },
  {
   "cell_type": "code",
   "execution_count": 63,
   "metadata": {},
   "outputs": [
    {
     "data": {
      "text/html": [
       "<div>\n",
       "<style scoped>\n",
       "    .dataframe tbody tr th:only-of-type {\n",
       "        vertical-align: middle;\n",
       "    }\n",
       "\n",
       "    .dataframe tbody tr th {\n",
       "        vertical-align: top;\n",
       "    }\n",
       "\n",
       "    .dataframe thead th {\n",
       "        text-align: right;\n",
       "    }\n",
       "</style>\n",
       "<table border=\"1\" class=\"dataframe\">\n",
       "  <thead>\n",
       "    <tr style=\"text-align: right;\">\n",
       "      <th></th>\n",
       "      <th>title</th>\n",
       "      <th>year</th>\n",
       "    </tr>\n",
       "  </thead>\n",
       "  <tbody>\n",
       "    <tr>\n",
       "      <th>193222</th>\n",
       "      <td>Miss Jerry</td>\n",
       "      <td>1894</td>\n",
       "    </tr>\n",
       "    <tr>\n",
       "      <th>51388</th>\n",
       "      <td>The Startled Lover</td>\n",
       "      <td>1898</td>\n",
       "    </tr>\n",
       "  </tbody>\n",
       "</table>\n",
       "</div>"
      ],
      "text/plain": [
       "                     title  year\n",
       "193222          Miss Jerry  1894\n",
       "51388   The Startled Lover  1898"
      ]
     },
     "execution_count": 63,
     "metadata": {},
     "output_type": "execute_result"
    }
   ],
   "source": [
    "titles.nsmallest(2,['year'])"
   ]
  },
  {
   "cell_type": "markdown",
   "metadata": {
    "collapsed": true
   },
   "source": [
    "### How many movies have the title \"Hamlet\"?"
   ]
  },
  {
   "cell_type": "code",
   "execution_count": 64,
   "metadata": {},
   "outputs": [
    {
     "data": {
      "text/plain": [
       "year    20\n",
       "dtype: int64"
      ]
     },
     "execution_count": 64,
     "metadata": {},
     "output_type": "execute_result"
    }
   ],
   "source": [
    "titles1=titles.set_index(\"title\")\n",
    "titles1.loc['Hamlet'].count()"
   ]
  },
  {
   "cell_type": "markdown",
   "metadata": {
    "collapsed": true
   },
   "source": [
    "### How many movies are titled \"North by Northwest\"?"
   ]
  },
  {
   "cell_type": "code",
   "execution_count": 65,
   "metadata": {},
   "outputs": [
    {
     "name": "stdout",
     "output_type": "stream",
     "text": [
      "No.of movies named North by NorthWest are : 1\n"
     ]
    }
   ],
   "source": [
    "titles1 = titles.set_index(\"title\")\n",
    "print(\"No.of movies named North by NorthWest are :\",titles1.loc[\"North by Northwest\"].count())"
   ]
  },
  {
   "cell_type": "markdown",
   "metadata": {
    "collapsed": true
   },
   "source": [
    "### When was the first movie titled \"Hamlet\" made?"
   ]
  },
  {
   "cell_type": "code",
   "execution_count": 66,
   "metadata": {},
   "outputs": [
    {
     "name": "stdout",
     "output_type": "stream",
     "text": [
      "First movie titles Hamlet is in the year : year    1910\n",
      "dtype: int64\n"
     ]
    }
   ],
   "source": [
    "titles1 = titles.set_index(\"title\")\n",
    "print(\"First movie titles Hamlet is in the year :\",titles1.loc['Hamlet'].min())"
   ]
  },
  {
   "cell_type": "markdown",
   "metadata": {
    "collapsed": true
   },
   "source": [
    "### List all of the \"Treasure Island\" movies from earliest to most recent."
   ]
  },
  {
   "cell_type": "code",
   "execution_count": 67,
   "metadata": {},
   "outputs": [
    {
     "name": "stdout",
     "output_type": "stream",
     "text": [
      "                 year\n",
      "title                \n",
      "Treasure Island  1918\n",
      "Treasure Island  1920\n",
      "Treasure Island  1934\n",
      "Treasure Island  1950\n",
      "Treasure Island  1972\n",
      "Treasure Island  1973\n",
      "Treasure Island  1985\n",
      "Treasure Island  1999\n"
     ]
    }
   ],
   "source": [
    "titles1 = titles.set_index(\"title\")\n",
    "titles1 = titles1.loc[\"Treasure Island\"]\n",
    "titles1.sort_values(by=['year'],inplace=True)\n",
    "print(titles1)"
   ]
  },
  {
   "cell_type": "markdown",
   "metadata": {
    "collapsed": true
   },
   "source": [
    "### How many movies were made in the year 1950?"
   ]
  },
  {
   "cell_type": "code",
   "execution_count": 68,
   "metadata": {},
   "outputs": [
    {
     "name": "stdout",
     "output_type": "stream",
     "text": [
      "No.of movies in the year 1950: title    1113\n",
      "dtype: int64\n"
     ]
    }
   ],
   "source": [
    "titles1 = titles.set_index(\"year\")\n",
    "titles1 = titles1.loc[1950]\n",
    "print(\"No.of movies in the year 1950:\",titles1.count())"
   ]
  },
  {
   "cell_type": "markdown",
   "metadata": {
    "collapsed": true
   },
   "source": [
    "### How many movies were made in the year 1960?"
   ]
  },
  {
   "cell_type": "code",
   "execution_count": 69,
   "metadata": {},
   "outputs": [
    {
     "name": "stdout",
     "output_type": "stream",
     "text": [
      "No.of movies in the year 1960: title    1549\n",
      "dtype: int64\n"
     ]
    }
   ],
   "source": [
    "titles1 = titles.set_index(\"year\")\n",
    "titles1 = titles1.loc[1960]\n",
    "print(\"No.of movies in the year 1960:\",titles1.count())"
   ]
  },
  {
   "cell_type": "markdown",
   "metadata": {
    "collapsed": true
   },
   "source": [
    "### How many movies were made from 1950 through 1959?"
   ]
  },
  {
   "cell_type": "markdown",
   "metadata": {},
   "source": []
  },
  {
   "cell_type": "code",
   "execution_count": 70,
   "metadata": {},
   "outputs": [
    {
     "name": "stdout",
     "output_type": "stream",
     "text": [
      "title    12934\n",
      "dtype: int64\n"
     ]
    }
   ],
   "source": [
    "li = [1950,1951,1952,1953,1954,1955,1956,1957,1958,1959]\n",
    "titles1 = titles.set_index('year')\n",
    "count = 0\n",
    "for i in li:\n",
    "    count += titles1.loc[i].count()\n",
    "print(count)"
   ]
  },
  {
   "cell_type": "markdown",
   "metadata": {
    "collapsed": true
   },
   "source": [
    "### In what years has a movie titled \"Batman\" been released?"
   ]
  },
  {
   "cell_type": "code",
   "execution_count": 71,
   "metadata": {},
   "outputs": [
    {
     "data": {
      "text/html": [
       "<div>\n",
       "<style scoped>\n",
       "    .dataframe tbody tr th:only-of-type {\n",
       "        vertical-align: middle;\n",
       "    }\n",
       "\n",
       "    .dataframe tbody tr th {\n",
       "        vertical-align: top;\n",
       "    }\n",
       "\n",
       "    .dataframe thead th {\n",
       "        text-align: right;\n",
       "    }\n",
       "</style>\n",
       "<table border=\"1\" class=\"dataframe\">\n",
       "  <thead>\n",
       "    <tr style=\"text-align: right;\">\n",
       "      <th></th>\n",
       "    </tr>\n",
       "    <tr>\n",
       "      <th>year</th>\n",
       "    </tr>\n",
       "  </thead>\n",
       "  <tbody>\n",
       "    <tr>\n",
       "      <th>1943</th>\n",
       "    </tr>\n",
       "    <tr>\n",
       "      <th>1989</th>\n",
       "    </tr>\n",
       "  </tbody>\n",
       "</table>\n",
       "</div>"
      ],
      "text/plain": [
       "Empty DataFrame\n",
       "Columns: []\n",
       "Index: [1943, 1989]"
      ]
     },
     "execution_count": 71,
     "metadata": {},
     "output_type": "execute_result"
    }
   ],
   "source": [
    "titles1 = titles.set_index('title')\n",
    "titles1 = titles1.loc['Batman']\n",
    "res = titles1.set_index('year')\n",
    "res"
   ]
  },
  {
   "cell_type": "markdown",
   "metadata": {
    "collapsed": true
   },
   "source": [
    "### How many roles were there in the movie \"Inception\"?"
   ]
  },
  {
   "cell_type": "code",
   "execution_count": 72,
   "metadata": {},
   "outputs": [],
   "source": [
    "cast = pd.read_csv('cast.csv')"
   ]
  },
  {
   "cell_type": "code",
   "execution_count": 73,
   "metadata": {},
   "outputs": [
    {
     "data": {
      "text/plain": [
       "56"
      ]
     },
     "execution_count": 73,
     "metadata": {},
     "output_type": "execute_result"
    }
   ],
   "source": [
    "res = cast[cast['title'] == 'Inception']\n",
    "res = len(res['character'].unique())\n",
    "res"
   ]
  },
  {
   "cell_type": "markdown",
   "metadata": {
    "collapsed": true
   },
   "source": [
    "### How many roles in the movie \"Inception\" are NOT ranked by an \"n\" value?"
   ]
  },
  {
   "cell_type": "code",
   "execution_count": 74,
   "metadata": {},
   "outputs": [],
   "source": [
    "df = cast.set_index('title')\n",
    "df=df.loc['Inception']"
   ]
  },
  {
   "cell_type": "code",
   "execution_count": 75,
   "metadata": {},
   "outputs": [
    {
     "data": {
      "text/plain": [
       "27"
      ]
     },
     "execution_count": 75,
     "metadata": {},
     "output_type": "execute_result"
    }
   ],
   "source": [
    "df['n'].isnull().sum()"
   ]
  },
  {
   "cell_type": "markdown",
   "metadata": {
    "collapsed": true
   },
   "source": [
    "### But how many roles in the movie \"Inception\" did receive an \"n\" value?"
   ]
  },
  {
   "cell_type": "code",
   "execution_count": 76,
   "metadata": {},
   "outputs": [
    {
     "data": {
      "text/plain": [
       "51"
      ]
     },
     "execution_count": 76,
     "metadata": {},
     "output_type": "execute_result"
    }
   ],
   "source": [
    "df['n'].count()"
   ]
  },
  {
   "cell_type": "markdown",
   "metadata": {
    "collapsed": true
   },
   "source": [
    "### Display the cast of \"North by Northwest\" in their correct \"n\"-value order, ignoring roles that did not earn a numeric \"n\" value."
   ]
  },
  {
   "cell_type": "code",
   "execution_count": 77,
   "metadata": {},
   "outputs": [
    {
     "data": {
      "text/html": [
       "<div>\n",
       "<style scoped>\n",
       "    .dataframe tbody tr th:only-of-type {\n",
       "        vertical-align: middle;\n",
       "    }\n",
       "\n",
       "    .dataframe tbody tr th {\n",
       "        vertical-align: top;\n",
       "    }\n",
       "\n",
       "    .dataframe thead th {\n",
       "        text-align: right;\n",
       "    }\n",
       "</style>\n",
       "<table border=\"1\" class=\"dataframe\">\n",
       "  <thead>\n",
       "    <tr style=\"text-align: right;\">\n",
       "      <th></th>\n",
       "      <th>year</th>\n",
       "      <th>name</th>\n",
       "      <th>type</th>\n",
       "      <th>character</th>\n",
       "      <th>n</th>\n",
       "    </tr>\n",
       "    <tr>\n",
       "      <th>title</th>\n",
       "      <th></th>\n",
       "      <th></th>\n",
       "      <th></th>\n",
       "      <th></th>\n",
       "      <th></th>\n",
       "    </tr>\n",
       "  </thead>\n",
       "  <tbody>\n",
       "    <tr>\n",
       "      <th>Tribulation</th>\n",
       "      <td>2000</td>\n",
       "      <td>Marium Carvell</td>\n",
       "      <td>actress</td>\n",
       "      <td>Selma Davis</td>\n",
       "      <td>33613.0</td>\n",
       "    </tr>\n",
       "    <tr>\n",
       "      <th>Rift</th>\n",
       "      <td>2011</td>\n",
       "      <td>Brittany Alexis Phillips</td>\n",
       "      <td>actress</td>\n",
       "      <td>Erica</td>\n",
       "      <td>999.0</td>\n",
       "    </tr>\n",
       "    <tr>\n",
       "      <th>Rift</th>\n",
       "      <td>2011</td>\n",
       "      <td>Catherine Fitzlanders</td>\n",
       "      <td>actress</td>\n",
       "      <td>Matty</td>\n",
       "      <td>999.0</td>\n",
       "    </tr>\n",
       "    <tr>\n",
       "      <th>Freer</th>\n",
       "      <td>2017</td>\n",
       "      <td>Roque (III) Santos</td>\n",
       "      <td>actor</td>\n",
       "      <td>Candy Seller</td>\n",
       "      <td>999.0</td>\n",
       "    </tr>\n",
       "    <tr>\n",
       "      <th>Rift</th>\n",
       "      <td>2011</td>\n",
       "      <td>Leon Fazzio</td>\n",
       "      <td>actor</td>\n",
       "      <td>Henry</td>\n",
       "      <td>999.0</td>\n",
       "    </tr>\n",
       "    <tr>\n",
       "      <th>Lloyd</th>\n",
       "      <td>2001</td>\n",
       "      <td>Lisa Calvillo</td>\n",
       "      <td>actress</td>\n",
       "      <td>Spaghetti Spectator</td>\n",
       "      <td>938.0</td>\n",
       "    </tr>\n",
       "    <tr>\n",
       "      <th>Ramasakkani Rakumarudu</th>\n",
       "      <td>2016</td>\n",
       "      <td>Srikanth Yellapragada</td>\n",
       "      <td>actor</td>\n",
       "      <td>Himself</td>\n",
       "      <td>911.0</td>\n",
       "    </tr>\n",
       "    <tr>\n",
       "      <th>Rogue</th>\n",
       "      <td>2002</td>\n",
       "      <td>Frank Montella</td>\n",
       "      <td>actor</td>\n",
       "      <td>Pyotr Yeftushenko</td>\n",
       "      <td>910.0</td>\n",
       "    </tr>\n",
       "    <tr>\n",
       "      <th>Ramasakkani Rakumarudu</th>\n",
       "      <td>2016</td>\n",
       "      <td>Gurunadh Desu</td>\n",
       "      <td>actor</td>\n",
       "      <td>Guru</td>\n",
       "      <td>811.0</td>\n",
       "    </tr>\n",
       "    <tr>\n",
       "      <th>Ye hua xiang</th>\n",
       "      <td>1959</td>\n",
       "      <td>Hsiang Kao</td>\n",
       "      <td>actress</td>\n",
       "      <td>Shang San Ku</td>\n",
       "      <td>788.0</td>\n",
       "    </tr>\n",
       "    <tr>\n",
       "      <th>Ramasakkani Rakumarudu</th>\n",
       "      <td>2016</td>\n",
       "      <td>Koteshwar Avvari</td>\n",
       "      <td>actor</td>\n",
       "      <td>Shankara Sastry</td>\n",
       "      <td>711.0</td>\n",
       "    </tr>\n",
       "    <tr>\n",
       "      <th>7 cajas</th>\n",
       "      <td>2012</td>\n",
       "      <td>Melissa Aguilera</td>\n",
       "      <td>actress</td>\n",
       "      <td>Extra</td>\n",
       "      <td>701.0</td>\n",
       "    </tr>\n",
       "    <tr>\n",
       "      <th>7 cajas</th>\n",
       "      <td>2012</td>\n",
       "      <td>Montserrat Marti</td>\n",
       "      <td>actress</td>\n",
       "      <td>Extra</td>\n",
       "      <td>700.0</td>\n",
       "    </tr>\n",
       "    <tr>\n",
       "      <th>7 cajas</th>\n",
       "      <td>2012</td>\n",
       "      <td>Jazmin M?ndez</td>\n",
       "      <td>actress</td>\n",
       "      <td>Extra</td>\n",
       "      <td>699.0</td>\n",
       "    </tr>\n",
       "    <tr>\n",
       "      <th>7 cajas</th>\n",
       "      <td>2012</td>\n",
       "      <td>Luj?n Santacruz</td>\n",
       "      <td>actress</td>\n",
       "      <td>Extra</td>\n",
       "      <td>698.0</td>\n",
       "    </tr>\n",
       "    <tr>\n",
       "      <th>7 cajas</th>\n",
       "      <td>2012</td>\n",
       "      <td>Ram?n (III) ?lvarez</td>\n",
       "      <td>actor</td>\n",
       "      <td>Extra</td>\n",
       "      <td>697.0</td>\n",
       "    </tr>\n",
       "    <tr>\n",
       "      <th>7 cajas</th>\n",
       "      <td>2012</td>\n",
       "      <td>Fabrizzio Nappa</td>\n",
       "      <td>actor</td>\n",
       "      <td>Extra</td>\n",
       "      <td>696.0</td>\n",
       "    </tr>\n",
       "    <tr>\n",
       "      <th>7 cajas</th>\n",
       "      <td>2012</td>\n",
       "      <td>Ver?nica Acosta</td>\n",
       "      <td>actress</td>\n",
       "      <td>Extra</td>\n",
       "      <td>695.0</td>\n",
       "    </tr>\n",
       "    <tr>\n",
       "      <th>7 cajas</th>\n",
       "      <td>2012</td>\n",
       "      <td>Federico Paredes</td>\n",
       "      <td>actor</td>\n",
       "      <td>Extra</td>\n",
       "      <td>694.0</td>\n",
       "    </tr>\n",
       "    <tr>\n",
       "      <th>7 cajas</th>\n",
       "      <td>2012</td>\n",
       "      <td>Mar?a Cielo Paredes</td>\n",
       "      <td>actress</td>\n",
       "      <td>Extra</td>\n",
       "      <td>693.0</td>\n",
       "    </tr>\n",
       "    <tr>\n",
       "      <th>7 cajas</th>\n",
       "      <td>2012</td>\n",
       "      <td>?lvaro Paredes</td>\n",
       "      <td>actor</td>\n",
       "      <td>Extra</td>\n",
       "      <td>692.0</td>\n",
       "    </tr>\n",
       "    <tr>\n",
       "      <th>7 cajas</th>\n",
       "      <td>2012</td>\n",
       "      <td>Vanessa Silguero</td>\n",
       "      <td>actor</td>\n",
       "      <td>Extra</td>\n",
       "      <td>691.0</td>\n",
       "    </tr>\n",
       "    <tr>\n",
       "      <th>7 cajas</th>\n",
       "      <td>2012</td>\n",
       "      <td>Raquel Roche</td>\n",
       "      <td>actress</td>\n",
       "      <td>Extra</td>\n",
       "      <td>690.0</td>\n",
       "    </tr>\n",
       "    <tr>\n",
       "      <th>7 cajas</th>\n",
       "      <td>2012</td>\n",
       "      <td>Daniel (VIII) Espinoza</td>\n",
       "      <td>actor</td>\n",
       "      <td>Extra</td>\n",
       "      <td>689.0</td>\n",
       "    </tr>\n",
       "    <tr>\n",
       "      <th>7 cajas</th>\n",
       "      <td>2012</td>\n",
       "      <td>Cindy S?nchez</td>\n",
       "      <td>actress</td>\n",
       "      <td>Extra</td>\n",
       "      <td>688.0</td>\n",
       "    </tr>\n",
       "    <tr>\n",
       "      <th>7 cajas</th>\n",
       "      <td>2012</td>\n",
       "      <td>Anita Acosta</td>\n",
       "      <td>actress</td>\n",
       "      <td>Extra</td>\n",
       "      <td>687.0</td>\n",
       "    </tr>\n",
       "    <tr>\n",
       "      <th>7 cajas</th>\n",
       "      <td>2012</td>\n",
       "      <td>Claudia Barreto</td>\n",
       "      <td>actress</td>\n",
       "      <td>Extra</td>\n",
       "      <td>686.0</td>\n",
       "    </tr>\n",
       "    <tr>\n",
       "      <th>7 cajas</th>\n",
       "      <td>2012</td>\n",
       "      <td>Liz Morales</td>\n",
       "      <td>actress</td>\n",
       "      <td>Extra</td>\n",
       "      <td>685.0</td>\n",
       "    </tr>\n",
       "    <tr>\n",
       "      <th>7 cajas</th>\n",
       "      <td>2012</td>\n",
       "      <td>Lourdes (VI) Torres</td>\n",
       "      <td>actress</td>\n",
       "      <td>Extra</td>\n",
       "      <td>684.0</td>\n",
       "    </tr>\n",
       "    <tr>\n",
       "      <th>7 cajas</th>\n",
       "      <td>2012</td>\n",
       "      <td>Samantha (II) Acosta</td>\n",
       "      <td>actress</td>\n",
       "      <td>Extra</td>\n",
       "      <td>683.0</td>\n",
       "    </tr>\n",
       "    <tr>\n",
       "      <th>...</th>\n",
       "      <td>...</td>\n",
       "      <td>...</td>\n",
       "      <td>...</td>\n",
       "      <td>...</td>\n",
       "      <td>...</td>\n",
       "    </tr>\n",
       "    <tr>\n",
       "      <th>Urban Guerillas</th>\n",
       "      <td>2004</td>\n",
       "      <td>Ilke ?ner</td>\n",
       "      <td>actress</td>\n",
       "      <td>Danger</td>\n",
       "      <td>NaN</td>\n",
       "    </tr>\n",
       "    <tr>\n",
       "      <th>Nereden Nereye</th>\n",
       "      <td>2017</td>\n",
       "      <td>?zge ?nl?tezcan</td>\n",
       "      <td>actress</td>\n",
       "      <td>Cansu Unlu</td>\n",
       "      <td>NaN</td>\n",
       "    </tr>\n",
       "    <tr>\n",
       "      <th>Candan sevmeli</th>\n",
       "      <td>1985</td>\n",
       "      <td>Ayseg?l ?nsal</td>\n",
       "      <td>actress</td>\n",
       "      <td>Sermin</td>\n",
       "      <td>NaN</td>\n",
       "    </tr>\n",
       "    <tr>\n",
       "      <th>Karilar Kogusu</th>\n",
       "      <td>1990</td>\n",
       "      <td>Ayseg?l (II) ?nsal</td>\n",
       "      <td>actress</td>\n",
       "      <td>Sefika</td>\n",
       "      <td>NaN</td>\n",
       "    </tr>\n",
       "    <tr>\n",
       "      <th>Kolay para</th>\n",
       "      <td>2002</td>\n",
       "      <td>Tuba ?nsal</td>\n",
       "      <td>actress</td>\n",
       "      <td>Sanem</td>\n",
       "      <td>NaN</td>\n",
       "    </tr>\n",
       "    <tr>\n",
       "      <th>Vizontele Tuuba</th>\n",
       "      <td>2003</td>\n",
       "      <td>Tuba ?nsal</td>\n",
       "      <td>actress</td>\n",
       "      <td>Tuuba</td>\n",
       "      <td>NaN</td>\n",
       "    </tr>\n",
       "    <tr>\n",
       "      <th>6th NAFCA Annual Show</th>\n",
       "      <td>2017</td>\n",
       "      <td>Preity ?pala</td>\n",
       "      <td>actress</td>\n",
       "      <td>Herself - Presenter</td>\n",
       "      <td>NaN</td>\n",
       "    </tr>\n",
       "    <tr>\n",
       "      <th>Bhaag Milkha Bhaag</th>\n",
       "      <td>2013</td>\n",
       "      <td>Preity ?pala</td>\n",
       "      <td>actress</td>\n",
       "      <td>Journalist (2013)</td>\n",
       "      <td>NaN</td>\n",
       "    </tr>\n",
       "    <tr>\n",
       "      <th>From Sydney with Love</th>\n",
       "      <td>2012</td>\n",
       "      <td>Preity ?pala</td>\n",
       "      <td>actress</td>\n",
       "      <td>Shruti (2012)</td>\n",
       "      <td>NaN</td>\n",
       "    </tr>\n",
       "    <tr>\n",
       "      <th>Orange</th>\n",
       "      <td>2010</td>\n",
       "      <td>Preity ?pala</td>\n",
       "      <td>actress</td>\n",
       "      <td>Usha (2010)</td>\n",
       "      <td>NaN</td>\n",
       "    </tr>\n",
       "    <tr>\n",
       "      <th>Sex and the City 2</th>\n",
       "      <td>2010</td>\n",
       "      <td>Preity ?pala</td>\n",
       "      <td>actress</td>\n",
       "      <td>Shopper</td>\n",
       "      <td>NaN</td>\n",
       "    </tr>\n",
       "    <tr>\n",
       "      <th>Singh Is Kinng</th>\n",
       "      <td>2008</td>\n",
       "      <td>Preity ?pala</td>\n",
       "      <td>actress</td>\n",
       "      <td>Puja (2008)</td>\n",
       "      <td>NaN</td>\n",
       "    </tr>\n",
       "    <tr>\n",
       "      <th>Thalaivaa</th>\n",
       "      <td>2013</td>\n",
       "      <td>Preity ?pala</td>\n",
       "      <td>actress</td>\n",
       "      <td>Pooja (2013)</td>\n",
       "      <td>NaN</td>\n",
       "    </tr>\n",
       "    <tr>\n",
       "      <th>The Sky Has Fallen</th>\n",
       "      <td>2009</td>\n",
       "      <td>Preity ?pala</td>\n",
       "      <td>actress</td>\n",
       "      <td>Skylar</td>\n",
       "      <td>NaN</td>\n",
       "    </tr>\n",
       "    <tr>\n",
       "      <th>Virsa</th>\n",
       "      <td>2010</td>\n",
       "      <td>Preity ?pala</td>\n",
       "      <td>actress</td>\n",
       "      <td>Prema</td>\n",
       "      <td>NaN</td>\n",
       "    </tr>\n",
       "    <tr>\n",
       "      <th>K (II)</th>\n",
       "      <td>2015</td>\n",
       "      <td>?rchaihu</td>\n",
       "      <td>actress</td>\n",
       "      <td>Castle Inn Singer 2</td>\n",
       "      <td>NaN</td>\n",
       "    </tr>\n",
       "    <tr>\n",
       "      <th>Dondurmam Gaymak</th>\n",
       "      <td>2005</td>\n",
       "      <td>T?nay ?rper</td>\n",
       "      <td>actress</td>\n",
       "      <td>Seller</td>\n",
       "      <td>NaN</td>\n",
       "    </tr>\n",
       "    <tr>\n",
       "      <th>Halam Geldi</th>\n",
       "      <td>2013</td>\n",
       "      <td>Nesrin ?stkanat</td>\n",
       "      <td>actress</td>\n",
       "      <td>Melek</td>\n",
       "      <td>NaN</td>\n",
       "    </tr>\n",
       "    <tr>\n",
       "      <th>Musallat</th>\n",
       "      <td>2007</td>\n",
       "      <td>Serap ?st?n</td>\n",
       "      <td>actress</td>\n",
       "      <td>Zeynep</td>\n",
       "      <td>NaN</td>\n",
       "    </tr>\n",
       "    <tr>\n",
       "      <th>Acliga Doymak</th>\n",
       "      <td>2012</td>\n",
       "      <td>Zeyno ?st?nisik</td>\n",
       "      <td>actress</td>\n",
       "      <td>Selma</td>\n",
       "      <td>NaN</td>\n",
       "    </tr>\n",
       "    <tr>\n",
       "      <th>Askin kesisme noktasi</th>\n",
       "      <td>1990</td>\n",
       "      <td>Zuhal ?st?ntas</td>\n",
       "      <td>actress</td>\n",
       "      <td>Hira Ana</td>\n",
       "      <td>NaN</td>\n",
       "    </tr>\n",
       "    <tr>\n",
       "      <th>Dislanmis/Lekeli melek</th>\n",
       "      <td>1993</td>\n",
       "      <td>Zuhal ?st?ntas</td>\n",
       "      <td>actress</td>\n",
       "      <td>Fatma</td>\n",
       "      <td>NaN</td>\n",
       "    </tr>\n",
       "    <tr>\n",
       "      <th>Recep Ivedik 4</th>\n",
       "      <td>2014</td>\n",
       "      <td>Berna ??kaleler</td>\n",
       "      <td>actress</td>\n",
       "      <td>Simge</td>\n",
       "      <td>NaN</td>\n",
       "    </tr>\n",
       "    <tr>\n",
       "      <th>Issiz Adam</th>\n",
       "      <td>2008</td>\n",
       "      <td>Sevin? ??ok</td>\n",
       "      <td>actress</td>\n",
       "      <td>Ece</td>\n",
       "      <td>NaN</td>\n",
       "    </tr>\n",
       "    <tr>\n",
       "      <th>Eldfjall</th>\n",
       "      <td>2011</td>\n",
       "      <td>Katla M. ?orgeirsd?ttir</td>\n",
       "      <td>actress</td>\n",
       "      <td>Home Nurse</td>\n",
       "      <td>NaN</td>\n",
       "    </tr>\n",
       "    <tr>\n",
       "      <th>Svanurinn</th>\n",
       "      <td>2017</td>\n",
       "      <td>Katla M. ?orgeirsd?ttir</td>\n",
       "      <td>actress</td>\n",
       "      <td>?l?f</td>\n",
       "      <td>NaN</td>\n",
       "    </tr>\n",
       "    <tr>\n",
       "      <th>Foreldrar</th>\n",
       "      <td>2007</td>\n",
       "      <td>Lilja Gu?r?n ?orvaldsd?ttir</td>\n",
       "      <td>actress</td>\n",
       "      <td>Katrin Eldri</td>\n",
       "      <td>NaN</td>\n",
       "    </tr>\n",
       "    <tr>\n",
       "      <th>Rokland</th>\n",
       "      <td>2011</td>\n",
       "      <td>Lilja Gu?r?n ?orvaldsd?ttir</td>\n",
       "      <td>actress</td>\n",
       "      <td>A?albj?rg - Dagga's Mother</td>\n",
       "      <td>NaN</td>\n",
       "    </tr>\n",
       "    <tr>\n",
       "      <th>XL</th>\n",
       "      <td>2013</td>\n",
       "      <td>Lilja Gu?r?n ?orvaldsd?ttir</td>\n",
       "      <td>actress</td>\n",
       "      <td>Tengdamamma</td>\n",
       "      <td>NaN</td>\n",
       "    </tr>\n",
       "    <tr>\n",
       "      <th>Bye Bye Blue Bird</th>\n",
       "      <td>1999</td>\n",
       "      <td>Rosa ? R?gvu</td>\n",
       "      <td>actress</td>\n",
       "      <td>Pensionatv?rtinde</td>\n",
       "      <td>NaN</td>\n",
       "    </tr>\n",
       "  </tbody>\n",
       "</table>\n",
       "<p>3786176 rows × 5 columns</p>\n",
       "</div>"
      ],
      "text/plain": [
       "                        year                         name     type  \\\n",
       "title                                                                \n",
       "Tribulation             2000               Marium Carvell  actress   \n",
       "Rift                    2011     Brittany Alexis Phillips  actress   \n",
       "Rift                    2011        Catherine Fitzlanders  actress   \n",
       "Freer                   2017           Roque (III) Santos    actor   \n",
       "Rift                    2011                  Leon Fazzio    actor   \n",
       "Lloyd                   2001                Lisa Calvillo  actress   \n",
       "Ramasakkani Rakumarudu  2016        Srikanth Yellapragada    actor   \n",
       "Rogue                   2002               Frank Montella    actor   \n",
       "Ramasakkani Rakumarudu  2016                Gurunadh Desu    actor   \n",
       "Ye hua xiang            1959                   Hsiang Kao  actress   \n",
       "Ramasakkani Rakumarudu  2016             Koteshwar Avvari    actor   \n",
       "7 cajas                 2012             Melissa Aguilera  actress   \n",
       "7 cajas                 2012             Montserrat Marti  actress   \n",
       "7 cajas                 2012                Jazmin M?ndez  actress   \n",
       "7 cajas                 2012              Luj?n Santacruz  actress   \n",
       "7 cajas                 2012          Ram?n (III) ?lvarez    actor   \n",
       "7 cajas                 2012              Fabrizzio Nappa    actor   \n",
       "7 cajas                 2012              Ver?nica Acosta  actress   \n",
       "7 cajas                 2012             Federico Paredes    actor   \n",
       "7 cajas                 2012          Mar?a Cielo Paredes  actress   \n",
       "7 cajas                 2012               ?lvaro Paredes    actor   \n",
       "7 cajas                 2012             Vanessa Silguero    actor   \n",
       "7 cajas                 2012                 Raquel Roche  actress   \n",
       "7 cajas                 2012       Daniel (VIII) Espinoza    actor   \n",
       "7 cajas                 2012                Cindy S?nchez  actress   \n",
       "7 cajas                 2012                 Anita Acosta  actress   \n",
       "7 cajas                 2012              Claudia Barreto  actress   \n",
       "7 cajas                 2012                  Liz Morales  actress   \n",
       "7 cajas                 2012          Lourdes (VI) Torres  actress   \n",
       "7 cajas                 2012         Samantha (II) Acosta  actress   \n",
       "...                      ...                          ...      ...   \n",
       "Urban Guerillas         2004                    Ilke ?ner  actress   \n",
       "Nereden Nereye          2017              ?zge ?nl?tezcan  actress   \n",
       "Candan sevmeli          1985                Ayseg?l ?nsal  actress   \n",
       "Karilar Kogusu          1990           Ayseg?l (II) ?nsal  actress   \n",
       "Kolay para              2002                   Tuba ?nsal  actress   \n",
       "Vizontele Tuuba         2003                   Tuba ?nsal  actress   \n",
       "6th NAFCA Annual Show   2017                 Preity ?pala  actress   \n",
       "Bhaag Milkha Bhaag      2013                 Preity ?pala  actress   \n",
       "From Sydney with Love   2012                 Preity ?pala  actress   \n",
       "Orange                  2010                 Preity ?pala  actress   \n",
       "Sex and the City 2      2010                 Preity ?pala  actress   \n",
       "Singh Is Kinng          2008                 Preity ?pala  actress   \n",
       "Thalaivaa               2013                 Preity ?pala  actress   \n",
       "The Sky Has Fallen      2009                 Preity ?pala  actress   \n",
       "Virsa                   2010                 Preity ?pala  actress   \n",
       "K (II)                  2015                     ?rchaihu  actress   \n",
       "Dondurmam Gaymak        2005                  T?nay ?rper  actress   \n",
       "Halam Geldi             2013              Nesrin ?stkanat  actress   \n",
       "Musallat                2007                  Serap ?st?n  actress   \n",
       "Acliga Doymak           2012              Zeyno ?st?nisik  actress   \n",
       "Askin kesisme noktasi   1990               Zuhal ?st?ntas  actress   \n",
       "Dislanmis/Lekeli melek  1993               Zuhal ?st?ntas  actress   \n",
       "Recep Ivedik 4          2014              Berna ??kaleler  actress   \n",
       "Issiz Adam              2008                  Sevin? ??ok  actress   \n",
       "Eldfjall                2011      Katla M. ?orgeirsd?ttir  actress   \n",
       "Svanurinn               2017      Katla M. ?orgeirsd?ttir  actress   \n",
       "Foreldrar               2007  Lilja Gu?r?n ?orvaldsd?ttir  actress   \n",
       "Rokland                 2011  Lilja Gu?r?n ?orvaldsd?ttir  actress   \n",
       "XL                      2013  Lilja Gu?r?n ?orvaldsd?ttir  actress   \n",
       "Bye Bye Blue Bird       1999                 Rosa ? R?gvu  actress   \n",
       "\n",
       "                                         character        n  \n",
       "title                                                        \n",
       "Tribulation                            Selma Davis  33613.0  \n",
       "Rift                                         Erica    999.0  \n",
       "Rift                                         Matty    999.0  \n",
       "Freer                                 Candy Seller    999.0  \n",
       "Rift                                         Henry    999.0  \n",
       "Lloyd                          Spaghetti Spectator    938.0  \n",
       "Ramasakkani Rakumarudu                     Himself    911.0  \n",
       "Rogue                            Pyotr Yeftushenko    910.0  \n",
       "Ramasakkani Rakumarudu                        Guru    811.0  \n",
       "Ye hua xiang                          Shang San Ku    788.0  \n",
       "Ramasakkani Rakumarudu             Shankara Sastry    711.0  \n",
       "7 cajas                                      Extra    701.0  \n",
       "7 cajas                                      Extra    700.0  \n",
       "7 cajas                                      Extra    699.0  \n",
       "7 cajas                                      Extra    698.0  \n",
       "7 cajas                                      Extra    697.0  \n",
       "7 cajas                                      Extra    696.0  \n",
       "7 cajas                                      Extra    695.0  \n",
       "7 cajas                                      Extra    694.0  \n",
       "7 cajas                                      Extra    693.0  \n",
       "7 cajas                                      Extra    692.0  \n",
       "7 cajas                                      Extra    691.0  \n",
       "7 cajas                                      Extra    690.0  \n",
       "7 cajas                                      Extra    689.0  \n",
       "7 cajas                                      Extra    688.0  \n",
       "7 cajas                                      Extra    687.0  \n",
       "7 cajas                                      Extra    686.0  \n",
       "7 cajas                                      Extra    685.0  \n",
       "7 cajas                                      Extra    684.0  \n",
       "7 cajas                                      Extra    683.0  \n",
       "...                                            ...      ...  \n",
       "Urban Guerillas                             Danger      NaN  \n",
       "Nereden Nereye                          Cansu Unlu      NaN  \n",
       "Candan sevmeli                              Sermin      NaN  \n",
       "Karilar Kogusu                              Sefika      NaN  \n",
       "Kolay para                                   Sanem      NaN  \n",
       "Vizontele Tuuba                              Tuuba      NaN  \n",
       "6th NAFCA Annual Show          Herself - Presenter      NaN  \n",
       "Bhaag Milkha Bhaag               Journalist (2013)      NaN  \n",
       "From Sydney with Love                Shruti (2012)      NaN  \n",
       "Orange                                 Usha (2010)      NaN  \n",
       "Sex and the City 2                         Shopper      NaN  \n",
       "Singh Is Kinng                         Puja (2008)      NaN  \n",
       "Thalaivaa                             Pooja (2013)      NaN  \n",
       "The Sky Has Fallen                          Skylar      NaN  \n",
       "Virsa                                        Prema      NaN  \n",
       "K (II)                         Castle Inn Singer 2      NaN  \n",
       "Dondurmam Gaymak                            Seller      NaN  \n",
       "Halam Geldi                                  Melek      NaN  \n",
       "Musallat                                    Zeynep      NaN  \n",
       "Acliga Doymak                                Selma      NaN  \n",
       "Askin kesisme noktasi                     Hira Ana      NaN  \n",
       "Dislanmis/Lekeli melek                       Fatma      NaN  \n",
       "Recep Ivedik 4                               Simge      NaN  \n",
       "Issiz Adam                                     Ece      NaN  \n",
       "Eldfjall                                Home Nurse      NaN  \n",
       "Svanurinn                                     ?l?f      NaN  \n",
       "Foreldrar                             Katrin Eldri      NaN  \n",
       "Rokland                 A?albj?rg - Dagga's Mother      NaN  \n",
       "XL                                     Tengdamamma      NaN  \n",
       "Bye Bye Blue Bird                Pensionatv?rtinde      NaN  \n",
       "\n",
       "[3786176 rows x 5 columns]"
      ]
     },
     "execution_count": 77,
     "metadata": {},
     "output_type": "execute_result"
    }
   ],
   "source": [
    "df = cast.set_index('title')\n",
    "d=df.loc['North by Northwest']\n",
    "df =df.sort_values(by ='n',ascending=False)\n",
    "df"
   ]
  },
  {
   "cell_type": "markdown",
   "metadata": {
    "collapsed": true
   },
   "source": [
    "### Display the entire cast, in \"n\"-order, of the 1972 film \"Sleuth\"."
   ]
  },
  {
   "cell_type": "code",
   "execution_count": 78,
   "metadata": {},
   "outputs": [
    {
     "data": {
      "text/html": [
       "<div>\n",
       "<style scoped>\n",
       "    .dataframe tbody tr th:only-of-type {\n",
       "        vertical-align: middle;\n",
       "    }\n",
       "\n",
       "    .dataframe tbody tr th {\n",
       "        vertical-align: top;\n",
       "    }\n",
       "\n",
       "    .dataframe thead th {\n",
       "        text-align: right;\n",
       "    }\n",
       "</style>\n",
       "<table border=\"1\" class=\"dataframe\">\n",
       "  <thead>\n",
       "    <tr style=\"text-align: right;\">\n",
       "      <th></th>\n",
       "      <th>name</th>\n",
       "      <th>type</th>\n",
       "      <th>character</th>\n",
       "      <th>n</th>\n",
       "    </tr>\n",
       "    <tr>\n",
       "      <th>year</th>\n",
       "      <th></th>\n",
       "      <th></th>\n",
       "      <th></th>\n",
       "      <th></th>\n",
       "    </tr>\n",
       "  </thead>\n",
       "  <tbody>\n",
       "    <tr>\n",
       "      <th>1972</th>\n",
       "      <td>Laurence Olivier</td>\n",
       "      <td>actor</td>\n",
       "      <td>Andrew Wyke</td>\n",
       "      <td>1.0</td>\n",
       "    </tr>\n",
       "    <tr>\n",
       "      <th>1972</th>\n",
       "      <td>Michael Caine</td>\n",
       "      <td>actor</td>\n",
       "      <td>Milo Tindle</td>\n",
       "      <td>2.0</td>\n",
       "    </tr>\n",
       "    <tr>\n",
       "      <th>1972</th>\n",
       "      <td>Alec Cawthorne</td>\n",
       "      <td>actor</td>\n",
       "      <td>Inspector Doppler</td>\n",
       "      <td>3.0</td>\n",
       "    </tr>\n",
       "    <tr>\n",
       "      <th>1972</th>\n",
       "      <td>John (II) Matthews</td>\n",
       "      <td>actor</td>\n",
       "      <td>Detective Sergeant Tarrant</td>\n",
       "      <td>4.0</td>\n",
       "    </tr>\n",
       "    <tr>\n",
       "      <th>1972</th>\n",
       "      <td>Eve (III) Channing</td>\n",
       "      <td>actress</td>\n",
       "      <td>Marguerite Wyke</td>\n",
       "      <td>5.0</td>\n",
       "    </tr>\n",
       "    <tr>\n",
       "      <th>1972</th>\n",
       "      <td>Teddy Martin</td>\n",
       "      <td>actor</td>\n",
       "      <td>Police Constable Higgs</td>\n",
       "      <td>6.0</td>\n",
       "    </tr>\n",
       "  </tbody>\n",
       "</table>\n",
       "</div>"
      ],
      "text/plain": [
       "                    name     type                   character    n\n",
       "year                                                              \n",
       "1972    Laurence Olivier    actor                 Andrew Wyke  1.0\n",
       "1972       Michael Caine    actor                 Milo Tindle  2.0\n",
       "1972      Alec Cawthorne    actor           Inspector Doppler  3.0\n",
       "1972  John (II) Matthews    actor  Detective Sergeant Tarrant  4.0\n",
       "1972  Eve (III) Channing  actress             Marguerite Wyke  5.0\n",
       "1972        Teddy Martin    actor      Police Constable Higgs  6.0"
      ]
     },
     "execution_count": 78,
     "metadata": {},
     "output_type": "execute_result"
    }
   ],
   "source": [
    "df = cast.set_index('title')\n",
    "df = df.loc['Sleuth']\n",
    "df = df.set_index('year')\n",
    "df = df.loc[1972]\n",
    "df = df.sort_values(by ='n')\n",
    "df"
   ]
  },
  {
   "cell_type": "markdown",
   "metadata": {
    "collapsed": true
   },
   "source": [
    "### Now display the entire cast, in \"n\"-order, of the 2007 version of \"Sleuth\"."
   ]
  },
  {
   "cell_type": "code",
   "execution_count": 79,
   "metadata": {},
   "outputs": [
    {
     "data": {
      "text/html": [
       "<div>\n",
       "<style scoped>\n",
       "    .dataframe tbody tr th:only-of-type {\n",
       "        vertical-align: middle;\n",
       "    }\n",
       "\n",
       "    .dataframe tbody tr th {\n",
       "        vertical-align: top;\n",
       "    }\n",
       "\n",
       "    .dataframe thead th {\n",
       "        text-align: right;\n",
       "    }\n",
       "</style>\n",
       "<table border=\"1\" class=\"dataframe\">\n",
       "  <thead>\n",
       "    <tr style=\"text-align: right;\">\n",
       "      <th></th>\n",
       "      <th>name</th>\n",
       "      <th>type</th>\n",
       "      <th>character</th>\n",
       "      <th>n</th>\n",
       "    </tr>\n",
       "    <tr>\n",
       "      <th>year</th>\n",
       "      <th></th>\n",
       "      <th></th>\n",
       "      <th></th>\n",
       "      <th></th>\n",
       "    </tr>\n",
       "  </thead>\n",
       "  <tbody>\n",
       "    <tr>\n",
       "      <th>2007</th>\n",
       "      <td>Harold Pinter</td>\n",
       "      <td>actor</td>\n",
       "      <td>Man on T.V.</td>\n",
       "      <td>3.0</td>\n",
       "    </tr>\n",
       "    <tr>\n",
       "      <th>2007</th>\n",
       "      <td>Jude Law</td>\n",
       "      <td>actor</td>\n",
       "      <td>Milo</td>\n",
       "      <td>2.0</td>\n",
       "    </tr>\n",
       "    <tr>\n",
       "      <th>2007</th>\n",
       "      <td>Michael Caine</td>\n",
       "      <td>actor</td>\n",
       "      <td>Andrew</td>\n",
       "      <td>1.0</td>\n",
       "    </tr>\n",
       "    <tr>\n",
       "      <th>2007</th>\n",
       "      <td>Kenneth Branagh</td>\n",
       "      <td>actor</td>\n",
       "      <td>Other Man on T.V.</td>\n",
       "      <td>NaN</td>\n",
       "    </tr>\n",
       "    <tr>\n",
       "      <th>2007</th>\n",
       "      <td>Alec (II) Cawthorne</td>\n",
       "      <td>actor</td>\n",
       "      <td>Inspector Doppler</td>\n",
       "      <td>NaN</td>\n",
       "    </tr>\n",
       "    <tr>\n",
       "      <th>2007</th>\n",
       "      <td>Eve (II) Channing</td>\n",
       "      <td>actress</td>\n",
       "      <td>Marguerite Wyke</td>\n",
       "      <td>NaN</td>\n",
       "    </tr>\n",
       "    <tr>\n",
       "      <th>2007</th>\n",
       "      <td>Carmel O'Sullivan</td>\n",
       "      <td>actress</td>\n",
       "      <td>Maggie</td>\n",
       "      <td>NaN</td>\n",
       "    </tr>\n",
       "  </tbody>\n",
       "</table>\n",
       "</div>"
      ],
      "text/plain": [
       "                     name     type          character    n\n",
       "year                                                      \n",
       "2007        Harold Pinter    actor        Man on T.V.  3.0\n",
       "2007             Jude Law    actor               Milo  2.0\n",
       "2007        Michael Caine    actor             Andrew  1.0\n",
       "2007      Kenneth Branagh    actor  Other Man on T.V.  NaN\n",
       "2007  Alec (II) Cawthorne    actor  Inspector Doppler  NaN\n",
       "2007    Eve (II) Channing  actress    Marguerite Wyke  NaN\n",
       "2007    Carmel O'Sullivan  actress             Maggie  NaN"
      ]
     },
     "execution_count": 79,
     "metadata": {},
     "output_type": "execute_result"
    }
   ],
   "source": [
    "df = cast.set_index('title').loc['Sleuth']\n",
    "df = df.set_index('year').loc[2007].sort_values(by ='n' , ascending=False)\n",
    "df"
   ]
  },
  {
   "cell_type": "markdown",
   "metadata": {
    "collapsed": true
   },
   "source": [
    "### How many roles were credited in the silent 1921 version of Hamlet?"
   ]
  },
  {
   "cell_type": "code",
   "execution_count": 80,
   "metadata": {},
   "outputs": [
    {
     "data": {
      "text/plain": [
       "9"
      ]
     },
     "execution_count": 80,
     "metadata": {},
     "output_type": "execute_result"
    }
   ],
   "source": [
    "df = cast.set_index('title').loc['Hamlet']\n",
    "df = df.set_index('year').loc[1921]\n",
    "df['character'].count()"
   ]
  },
  {
   "cell_type": "markdown",
   "metadata": {
    "collapsed": true
   },
   "source": [
    "### How many roles were credited in Branagh’s 1996 Hamlet?"
   ]
  },
  {
   "cell_type": "code",
   "execution_count": 81,
   "metadata": {},
   "outputs": [
    {
     "data": {
      "text/plain": [
       "1"
      ]
     },
     "execution_count": 81,
     "metadata": {},
     "output_type": "execute_result"
    }
   ],
   "source": [
    "df = cast.set_index('title').loc['Hamlet'].set_index('year').loc[1996]\n",
    "df = df[df['name'] == 'Kenneth Branagh'].sort_values('character').shape[0]\n",
    "df"
   ]
  },
  {
   "cell_type": "markdown",
   "metadata": {
    "collapsed": true
   },
   "source": [
    "### How many \"Hamlet\" roles have been listed in all film credits through history?"
   ]
  },
  {
   "cell_type": "code",
   "execution_count": 82,
   "metadata": {},
   "outputs": [
    {
     "data": {
      "text/plain": [
       "96"
      ]
     },
     "execution_count": 82,
     "metadata": {},
     "output_type": "execute_result"
    }
   ],
   "source": [
    "df = cast.set_index('character').loc['Hamlet']\n",
    "df[\"title\"].count()"
   ]
  },
  {
   "cell_type": "markdown",
   "metadata": {
    "collapsed": true
   },
   "source": [
    "### How many people have played an \"Ophelia\"?"
   ]
  },
  {
   "cell_type": "code",
   "execution_count": 83,
   "metadata": {},
   "outputs": [
    {
     "data": {
      "text/plain": [
       "117"
      ]
     },
     "execution_count": 83,
     "metadata": {},
     "output_type": "execute_result"
    }
   ],
   "source": [
    "df = cast.set_index('character').loc['Ophelia']\n",
    "df[\"name\"].count()"
   ]
  },
  {
   "cell_type": "markdown",
   "metadata": {
    "collapsed": true
   },
   "source": [
    "### How many people have played a role called \"The Dude\"?"
   ]
  },
  {
   "cell_type": "code",
   "execution_count": 84,
   "metadata": {},
   "outputs": [
    {
     "data": {
      "text/plain": [
       "19"
      ]
     },
     "execution_count": 84,
     "metadata": {},
     "output_type": "execute_result"
    }
   ],
   "source": [
    "df = cast.set_index('character').loc['The Dude']\n",
    "df[\"name\"].count()"
   ]
  },
  {
   "cell_type": "markdown",
   "metadata": {
    "collapsed": true
   },
   "source": [
    "### How many people have played a role called \"The Stranger\"?"
   ]
  },
  {
   "cell_type": "code",
   "execution_count": 85,
   "metadata": {},
   "outputs": [
    {
     "data": {
      "text/plain": [
       "212"
      ]
     },
     "execution_count": 85,
     "metadata": {},
     "output_type": "execute_result"
    }
   ],
   "source": [
    "df = cast.set_index('character').loc['The Stranger']\n",
    "df[\"name\"].count()"
   ]
  },
  {
   "cell_type": "markdown",
   "metadata": {
    "collapsed": true
   },
   "source": [
    "### How many roles has Sidney Poitier played throughout his career?"
   ]
  },
  {
   "cell_type": "code",
   "execution_count": 86,
   "metadata": {},
   "outputs": [
    {
     "data": {
      "text/plain": [
       "43"
      ]
     },
     "execution_count": 86,
     "metadata": {},
     "output_type": "execute_result"
    }
   ],
   "source": [
    "df = cast.set_index('name').loc['Sidney Poitier']\n",
    "df[\"character\"].count()"
   ]
  },
  {
   "cell_type": "markdown",
   "metadata": {
    "collapsed": true
   },
   "source": [
    "### How many roles has Judi Dench played?"
   ]
  },
  {
   "cell_type": "code",
   "execution_count": 87,
   "metadata": {},
   "outputs": [
    {
     "data": {
      "text/plain": [
       "55"
      ]
     },
     "execution_count": 87,
     "metadata": {},
     "output_type": "execute_result"
    }
   ],
   "source": [
    "df = cast.set_index('name').loc['Judi Dench']\n",
    "df[\"character\"].count()"
   ]
  },
  {
   "cell_type": "markdown",
   "metadata": {
    "collapsed": true
   },
   "source": [
    "### List the supporting roles (having n=2) played by Cary Grant in the 1940s, in order by year."
   ]
  },
  {
   "cell_type": "code",
   "execution_count": 88,
   "metadata": {},
   "outputs": [
    {
     "data": {
      "text/html": [
       "<div>\n",
       "<style scoped>\n",
       "    .dataframe tbody tr th:only-of-type {\n",
       "        vertical-align: middle;\n",
       "    }\n",
       "\n",
       "    .dataframe tbody tr th {\n",
       "        vertical-align: top;\n",
       "    }\n",
       "\n",
       "    .dataframe thead th {\n",
       "        text-align: right;\n",
       "    }\n",
       "</style>\n",
       "<table border=\"1\" class=\"dataframe\">\n",
       "  <thead>\n",
       "    <tr style=\"text-align: right;\">\n",
       "      <th></th>\n",
       "      <th>title</th>\n",
       "      <th>year</th>\n",
       "      <th>type</th>\n",
       "      <th>character</th>\n",
       "    </tr>\n",
       "    <tr>\n",
       "      <th>n</th>\n",
       "      <th></th>\n",
       "      <th></th>\n",
       "      <th></th>\n",
       "      <th></th>\n",
       "    </tr>\n",
       "  </thead>\n",
       "  <tbody>\n",
       "    <tr>\n",
       "      <th>2.0</th>\n",
       "      <td>My Favorite Wife</td>\n",
       "      <td>1940</td>\n",
       "      <td>actor</td>\n",
       "      <td>Nick Arden</td>\n",
       "    </tr>\n",
       "    <tr>\n",
       "      <th>2.0</th>\n",
       "      <td>Penny Serenade</td>\n",
       "      <td>1941</td>\n",
       "      <td>actor</td>\n",
       "      <td>Roger Adams</td>\n",
       "    </tr>\n",
       "  </tbody>\n",
       "</table>\n",
       "</div>"
      ],
      "text/plain": [
       "                title  year   type    character\n",
       "n                                              \n",
       "2.0  My Favorite Wife  1940  actor   Nick Arden\n",
       "2.0    Penny Serenade  1941  actor  Roger Adams"
      ]
     },
     "execution_count": 88,
     "metadata": {},
     "output_type": "execute_result"
    }
   ],
   "source": [
    "df = cast.set_index(\"name\").loc[\"Cary Grant\"]\n",
    "df = df.set_index(\"n\").loc[2]\n",
    "res = df.sort_values(by = \"year\" , ascending = True)\n",
    "res[(res['year']>1939) & (res['year']<1951)]"
   ]
  },
  {
   "cell_type": "markdown",
   "metadata": {
    "collapsed": true
   },
   "source": [
    "### List the leading roles that Cary Grant played in the 1940s in order by year."
   ]
  },
  {
   "cell_type": "code",
   "execution_count": 89,
   "metadata": {},
   "outputs": [
    {
     "data": {
      "text/html": [
       "<div>\n",
       "<style scoped>\n",
       "    .dataframe tbody tr th:only-of-type {\n",
       "        vertical-align: middle;\n",
       "    }\n",
       "\n",
       "    .dataframe tbody tr th {\n",
       "        vertical-align: top;\n",
       "    }\n",
       "\n",
       "    .dataframe thead th {\n",
       "        text-align: right;\n",
       "    }\n",
       "</style>\n",
       "<table border=\"1\" class=\"dataframe\">\n",
       "  <thead>\n",
       "    <tr style=\"text-align: right;\">\n",
       "      <th></th>\n",
       "      <th>title</th>\n",
       "      <th>year</th>\n",
       "      <th>type</th>\n",
       "      <th>character</th>\n",
       "    </tr>\n",
       "    <tr>\n",
       "      <th>n</th>\n",
       "      <th></th>\n",
       "      <th></th>\n",
       "      <th></th>\n",
       "      <th></th>\n",
       "    </tr>\n",
       "  </thead>\n",
       "  <tbody>\n",
       "    <tr>\n",
       "      <th>1.0</th>\n",
       "      <td>The Howards of Virginia</td>\n",
       "      <td>1940</td>\n",
       "      <td>actor</td>\n",
       "      <td>Matt Howard</td>\n",
       "    </tr>\n",
       "    <tr>\n",
       "      <th>1.0</th>\n",
       "      <td>His Girl Friday</td>\n",
       "      <td>1940</td>\n",
       "      <td>actor</td>\n",
       "      <td>Walter Burns</td>\n",
       "    </tr>\n",
       "    <tr>\n",
       "      <th>1.0</th>\n",
       "      <td>The Philadelphia Story</td>\n",
       "      <td>1940</td>\n",
       "      <td>actor</td>\n",
       "      <td>C. K. Dexter Haven</td>\n",
       "    </tr>\n",
       "    <tr>\n",
       "      <th>1.0</th>\n",
       "      <td>Suspicion</td>\n",
       "      <td>1941</td>\n",
       "      <td>actor</td>\n",
       "      <td>Johnnie Aysgarth</td>\n",
       "    </tr>\n",
       "    <tr>\n",
       "      <th>1.0</th>\n",
       "      <td>Once Upon a Honeymoon</td>\n",
       "      <td>1942</td>\n",
       "      <td>actor</td>\n",
       "      <td>Patrick 'Pat' O'Toole</td>\n",
       "    </tr>\n",
       "    <tr>\n",
       "      <th>1.0</th>\n",
       "      <td>The Talk of the Town</td>\n",
       "      <td>1942</td>\n",
       "      <td>actor</td>\n",
       "      <td>Leopold Dilg</td>\n",
       "    </tr>\n",
       "    <tr>\n",
       "      <th>1.0</th>\n",
       "      <td>Destination Tokyo</td>\n",
       "      <td>1943</td>\n",
       "      <td>actor</td>\n",
       "      <td>Capt. Cassidy</td>\n",
       "    </tr>\n",
       "    <tr>\n",
       "      <th>1.0</th>\n",
       "      <td>Mr. Lucky</td>\n",
       "      <td>1943</td>\n",
       "      <td>actor</td>\n",
       "      <td>Joe Adams -posing as Joe Bascopolous</td>\n",
       "    </tr>\n",
       "    <tr>\n",
       "      <th>1.0</th>\n",
       "      <td>Once Upon a Time</td>\n",
       "      <td>1944</td>\n",
       "      <td>actor</td>\n",
       "      <td>Jerry Flynn</td>\n",
       "    </tr>\n",
       "    <tr>\n",
       "      <th>1.0</th>\n",
       "      <td>None But the Lonely Heart</td>\n",
       "      <td>1944</td>\n",
       "      <td>actor</td>\n",
       "      <td>Ernie Mott</td>\n",
       "    </tr>\n",
       "    <tr>\n",
       "      <th>1.0</th>\n",
       "      <td>Arsenic and Old Lace</td>\n",
       "      <td>1944</td>\n",
       "      <td>actor</td>\n",
       "      <td>Mortimer Brewster</td>\n",
       "    </tr>\n",
       "    <tr>\n",
       "      <th>1.0</th>\n",
       "      <td>Notorious</td>\n",
       "      <td>1946</td>\n",
       "      <td>actor</td>\n",
       "      <td>Devlin</td>\n",
       "    </tr>\n",
       "    <tr>\n",
       "      <th>1.0</th>\n",
       "      <td>Night and Day</td>\n",
       "      <td>1946</td>\n",
       "      <td>actor</td>\n",
       "      <td>Cole Porter</td>\n",
       "    </tr>\n",
       "    <tr>\n",
       "      <th>1.0</th>\n",
       "      <td>The Bishop's Wife</td>\n",
       "      <td>1947</td>\n",
       "      <td>actor</td>\n",
       "      <td>Dudley</td>\n",
       "    </tr>\n",
       "    <tr>\n",
       "      <th>1.0</th>\n",
       "      <td>The Bachelor and the Bobby-Soxer</td>\n",
       "      <td>1947</td>\n",
       "      <td>actor</td>\n",
       "      <td>Dick Nugent</td>\n",
       "    </tr>\n",
       "    <tr>\n",
       "      <th>1.0</th>\n",
       "      <td>Every Girl Should Be Married</td>\n",
       "      <td>1948</td>\n",
       "      <td>actor</td>\n",
       "      <td>Dr. Madison Brown</td>\n",
       "    </tr>\n",
       "    <tr>\n",
       "      <th>1.0</th>\n",
       "      <td>Mr. Blandings Builds His Dream House</td>\n",
       "      <td>1948</td>\n",
       "      <td>actor</td>\n",
       "      <td>Jim Blandings</td>\n",
       "    </tr>\n",
       "    <tr>\n",
       "      <th>1.0</th>\n",
       "      <td>I Was a Male War Bride</td>\n",
       "      <td>1949</td>\n",
       "      <td>actor</td>\n",
       "      <td>Captain Henri Rochard</td>\n",
       "    </tr>\n",
       "    <tr>\n",
       "      <th>1.0</th>\n",
       "      <td>Crisis</td>\n",
       "      <td>1950</td>\n",
       "      <td>actor</td>\n",
       "      <td>Dr. Eugene Norland Ferguson</td>\n",
       "    </tr>\n",
       "  </tbody>\n",
       "</table>\n",
       "</div>"
      ],
      "text/plain": [
       "                                    title  year   type  \\\n",
       "n                                                        \n",
       "1.0               The Howards of Virginia  1940  actor   \n",
       "1.0                       His Girl Friday  1940  actor   \n",
       "1.0                The Philadelphia Story  1940  actor   \n",
       "1.0                             Suspicion  1941  actor   \n",
       "1.0                 Once Upon a Honeymoon  1942  actor   \n",
       "1.0                  The Talk of the Town  1942  actor   \n",
       "1.0                     Destination Tokyo  1943  actor   \n",
       "1.0                             Mr. Lucky  1943  actor   \n",
       "1.0                      Once Upon a Time  1944  actor   \n",
       "1.0             None But the Lonely Heart  1944  actor   \n",
       "1.0                  Arsenic and Old Lace  1944  actor   \n",
       "1.0                             Notorious  1946  actor   \n",
       "1.0                         Night and Day  1946  actor   \n",
       "1.0                     The Bishop's Wife  1947  actor   \n",
       "1.0      The Bachelor and the Bobby-Soxer  1947  actor   \n",
       "1.0          Every Girl Should Be Married  1948  actor   \n",
       "1.0  Mr. Blandings Builds His Dream House  1948  actor   \n",
       "1.0                I Was a Male War Bride  1949  actor   \n",
       "1.0                                Crisis  1950  actor   \n",
       "\n",
       "                                character  \n",
       "n                                          \n",
       "1.0                           Matt Howard  \n",
       "1.0                          Walter Burns  \n",
       "1.0                    C. K. Dexter Haven  \n",
       "1.0                      Johnnie Aysgarth  \n",
       "1.0                 Patrick 'Pat' O'Toole  \n",
       "1.0                          Leopold Dilg  \n",
       "1.0                         Capt. Cassidy  \n",
       "1.0  Joe Adams -posing as Joe Bascopolous  \n",
       "1.0                           Jerry Flynn  \n",
       "1.0                            Ernie Mott  \n",
       "1.0                     Mortimer Brewster  \n",
       "1.0                                Devlin  \n",
       "1.0                           Cole Porter  \n",
       "1.0                                Dudley  \n",
       "1.0                           Dick Nugent  \n",
       "1.0                     Dr. Madison Brown  \n",
       "1.0                         Jim Blandings  \n",
       "1.0                 Captain Henri Rochard  \n",
       "1.0           Dr. Eugene Norland Ferguson  "
      ]
     },
     "execution_count": 89,
     "metadata": {},
     "output_type": "execute_result"
    }
   ],
   "source": [
    "df = cast.set_index(\"name\").loc[\"Cary Grant\"]\n",
    "df = df.set_index(\"n\").loc[1]\n",
    "res = df.sort_values(by = \"year\" , ascending = True)\n",
    "res[(res['year']>1939) & (res['year']<1951)]"
   ]
  },
  {
   "cell_type": "markdown",
   "metadata": {
    "collapsed": true
   },
   "source": [
    "### How many roles were available for actors in the 1950s?"
   ]
  },
  {
   "cell_type": "code",
   "execution_count": 90,
   "metadata": {},
   "outputs": [
    {
     "data": {
      "text/plain": [
       "1.0      6149\n",
       "3.0      5161\n",
       "4.0      5115\n",
       "5.0      5101\n",
       "6.0      5009\n",
       "7.0      4914\n",
       "8.0      4729\n",
       "9.0      4386\n",
       "2.0      4240\n",
       "10.0     3951\n",
       "11.0     3530\n",
       "12.0     3136\n",
       "13.0     2681\n",
       "14.0     2302\n",
       "15.0     2043\n",
       "16.0     1674\n",
       "17.0     1435\n",
       "18.0     1245\n",
       "19.0      997\n",
       "20.0      894\n",
       "21.0      746\n",
       "22.0      636\n",
       "23.0      531\n",
       "24.0      434\n",
       "25.0      408\n",
       "26.0      352\n",
       "27.0      300\n",
       "28.0      247\n",
       "29.0      227\n",
       "30.0      203\n",
       "         ... \n",
       "107.0       1\n",
       "136.0       1\n",
       "126.0       1\n",
       "104.0       1\n",
       "138.0       1\n",
       "105.0       1\n",
       "137.0       1\n",
       "125.0       1\n",
       "121.0       1\n",
       "119.0       1\n",
       "122.0       1\n",
       "112.0       1\n",
       "108.0       1\n",
       "110.0       1\n",
       "124.0       1\n",
       "134.0       1\n",
       "128.0       1\n",
       "114.0       1\n",
       "123.0       1\n",
       "109.0       1\n",
       "115.0       1\n",
       "113.0       1\n",
       "106.0       1\n",
       "120.0       1\n",
       "130.0       1\n",
       "140.0       1\n",
       "117.0       1\n",
       "139.0       1\n",
       "111.0       1\n",
       "127.0       1\n",
       "Name: n, Length: 151, dtype: int64"
      ]
     },
     "execution_count": 90,
     "metadata": {},
     "output_type": "execute_result"
    }
   ],
   "source": [
    "df = cast.set_index('type').loc[\"actor\"]\n",
    "df = df[(df[\"year\"] > 1951) & (df[\"year\"]<1961)]\n",
    "df[\"n\"].value_counts()"
   ]
  },
  {
   "cell_type": "markdown",
   "metadata": {
    "collapsed": true
   },
   "source": [
    "### How many roles were available for actresses in the 1950s?"
   ]
  },
  {
   "cell_type": "code",
   "execution_count": 91,
   "metadata": {},
   "outputs": [
    {
     "data": {
      "text/plain": [
       "2.0      4270\n",
       "3.0      2940\n",
       "1.0      2769\n",
       "4.0      2669\n",
       "5.0      2400\n",
       "6.0      2201\n",
       "7.0      1918\n",
       "8.0      1698\n",
       "9.0      1539\n",
       "10.0     1410\n",
       "11.0     1273\n",
       "12.0     1096\n",
       "13.0      935\n",
       "14.0      827\n",
       "15.0      684\n",
       "16.0      629\n",
       "17.0      544\n",
       "18.0      462\n",
       "19.0      376\n",
       "20.0      300\n",
       "21.0      269\n",
       "22.0      238\n",
       "23.0      220\n",
       "24.0      200\n",
       "25.0      147\n",
       "27.0      119\n",
       "26.0      114\n",
       "28.0      101\n",
       "30.0       90\n",
       "29.0       81\n",
       "         ... \n",
       "152.0       1\n",
       "160.0       1\n",
       "91.0        1\n",
       "418.0       1\n",
       "92.0        1\n",
       "96.0        1\n",
       "164.0       1\n",
       "161.0       1\n",
       "158.0       1\n",
       "88.0        1\n",
       "159.0       1\n",
       "69.0        1\n",
       "68.0        1\n",
       "95.0        1\n",
       "153.0       1\n",
       "76.0        1\n",
       "162.0       1\n",
       "86.0        1\n",
       "84.0        1\n",
       "89.0        1\n",
       "87.0        1\n",
       "74.0        1\n",
       "94.0        1\n",
       "156.0       1\n",
       "154.0       1\n",
       "163.0       1\n",
       "90.0        1\n",
       "83.0        1\n",
       "155.0       1\n",
       "85.0        1\n",
       "Name: n, Length: 106, dtype: int64"
      ]
     },
     "execution_count": 91,
     "metadata": {},
     "output_type": "execute_result"
    }
   ],
   "source": [
    "df = cast.set_index('type').loc[\"actress\"]\n",
    "df = df[(df[\"year\"] > 1951) & (df[\"year\"]<1961)]\n",
    "df[\"n\"].value_counts()"
   ]
  },
  {
   "cell_type": "markdown",
   "metadata": {
    "collapsed": true
   },
   "source": [
    "### How many leading roles (n=1) were available from the beginning of film history through 1980?"
   ]
  },
  {
   "cell_type": "code",
   "execution_count": 92,
   "metadata": {},
   "outputs": [
    {
     "data": {
      "text/plain": [
       "65140"
      ]
     },
     "execution_count": 92,
     "metadata": {},
     "output_type": "execute_result"
    }
   ],
   "source": [
    "df = cast.set_index('n').loc[1]\n",
    "mini = df[\"year\"].min()\n",
    "leading = len(df[(df[\"year\"] >= mini) & (df[\"year\"] <= 1980)])\n",
    "leading"
   ]
  },
  {
   "cell_type": "markdown",
   "metadata": {
    "collapsed": true
   },
   "source": [
    "### How many non-leading roles were available through from the beginning of film history through 1980?"
   ]
  },
  {
   "cell_type": "code",
   "execution_count": 93,
   "metadata": {},
   "outputs": [
    {
     "data": {
      "text/plain": [
       "1117667"
      ]
     },
     "execution_count": 93,
     "metadata": {},
     "output_type": "execute_result"
    }
   ],
   "source": [
    "df = cast.set_index('n')\n",
    "mini = df[\"year\"].min()\n",
    "res = len(df[(df[\"year\"] >= mini) & (df[\"year\"] <= 1980)])\n",
    "res = res - leading\n",
    "res"
   ]
  },
  {
   "cell_type": "markdown",
   "metadata": {
    "collapsed": true
   },
   "source": [
    "### How many roles through 1980 were minor enough that they did not warrant a numeric \"n\" rank?"
   ]
  },
  {
   "cell_type": "code",
   "execution_count": 94,
   "metadata": {},
   "outputs": [
    {
     "data": {
      "text/plain": [
       "4466"
      ]
     },
     "execution_count": 94,
     "metadata": {},
     "output_type": "execute_result"
    }
   ],
   "source": [
    "df = cast.set_index('year').loc[1980]\n",
    "df['n'].isnull().sum()"
   ]
  },
  {
   "cell_type": "code",
   "execution_count": null,
   "metadata": {},
   "outputs": [],
   "source": []
  }
 ],
 "metadata": {
  "kernelspec": {
   "display_name": "Python 3",
   "language": "python",
   "name": "python3"
  },
  "language_info": {
   "codemirror_mode": {
    "name": "ipython",
    "version": 3
   },
   "file_extension": ".py",
   "mimetype": "text/x-python",
   "name": "python",
   "nbconvert_exporter": "python",
   "pygments_lexer": "ipython3",
   "version": "3.6.5"
  }
 },
 "nbformat": 4,
 "nbformat_minor": 1
}
