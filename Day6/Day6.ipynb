{
 "cells": [
  {
   "cell_type": "markdown",
   "metadata": {},
   "source": [
    "__Assuming that we have some email addresses in the \"username@companyname.com\" format, please write program to print the company name of a given email address. Both user names and company names are composed of letters only__"
   ]
  },
  {
   "cell_type": "code",
   "execution_count": 6,
   "metadata": {},
   "outputs": [
    {
     "name": "stdout",
     "output_type": "stream",
     "text": [
      "jhansi@google.com\n",
      "google\n"
     ]
    }
   ],
   "source": [
    "print(input().split(\"@\")[1].split(\".\")[0])"
   ]
  },
  {
   "cell_type": "markdown",
   "metadata": {},
   "source": [
    "__Write a program that accepts a comma-separated sequence of words as input and prints the words in a comma separated sequence after sorting them alphabetically__"
   ]
  },
  {
   "cell_type": "code",
   "execution_count": 5,
   "metadata": {},
   "outputs": [
    {
     "name": "stdout",
     "output_type": "stream",
     "text": [
      "Enter comma separated values: without,hello,bag,world\n",
      "bag,hello,without,world\n"
     ]
    }
   ],
   "source": [
    "a=[i for i in input(\"Enter comma separated values: \").split(\",\")]\n",
    "a.sort()\n",
    "for i in range(len(a)-1):\n",
    "    print(a[i],end = \",\")\n",
    "print(a[-1])\n"
   ]
  },
  {
   "cell_type": "markdown",
   "metadata": {},
   "source": [
    "__Given a list of n-1 numbers ranging from 1 to n, your task is to find the missing number. There are no duplicates__"
   ]
  },
  {
   "cell_type": "code",
   "execution_count": 15,
   "metadata": {},
   "outputs": [
    {
     "name": "stdout",
     "output_type": "stream",
     "text": [
      "3\n"
     ]
    }
   ],
   "source": [
    "li=[1,2,4,5]\n",
    "li.sort()\n",
    "for i in range(len(li)):\n",
    "    if li[i]!=i+1:\n",
    "        print(i+1)\n",
    "        break\n",
    "    "
   ]
  },
  {
   "cell_type": "markdown",
   "metadata": {},
   "source": [
    "__With a given list L, write a program to print this list L after removing all duplicate values with original order reserved__"
   ]
  },
  {
   "cell_type": "code",
   "execution_count": 9,
   "metadata": {},
   "outputs": [
    {
     "name": "stdout",
     "output_type": "stream",
     "text": [
      "Enter a list of integers seperated by space:1 2 3 4 1 \n",
      "Modified list after removing duplicates in the list\n",
      "1 2 3 4  "
     ]
    }
   ],
   "source": [
    "li=[i for i in input(\"Enter a list of integers seperated by space:\").split(\" \")]\n",
    "f=1\n",
    "for i in range(0,len(li)-1):\n",
    "    for j in range(i+1,len(li)):\n",
    "        if li[i]==li[j]:\n",
    "            f=0\n",
    "            break\n",
    "    if f==0:\n",
    "        break\n",
    "if f==0:\n",
    "    li=list(dict.fromkeys(li))\n",
    "    print(\"Modified list after removing duplicates in the list\")\n",
    "    for i in li:\n",
    "        print(i,end=\" \")\n",
    "else:\n",
    "    print(\"There are no duplicates in the list\")"
   ]
  },
  {
   "cell_type": "code",
   "execution_count": null,
   "metadata": {},
   "outputs": [],
   "source": []
  },
  {
   "cell_type": "code",
   "execution_count": null,
   "metadata": {},
   "outputs": [],
   "source": []
  }
 ],
 "metadata": {
  "kernelspec": {
   "display_name": "Python 3",
   "language": "python",
   "name": "python3"
  },
  "language_info": {
   "codemirror_mode": {
    "name": "ipython",
    "version": 3
   },
   "file_extension": ".py",
   "mimetype": "text/x-python",
   "name": "python",
   "nbconvert_exporter": "python",
   "pygments_lexer": "ipython3",
   "version": "3.6.5"
  }
 },
 "nbformat": 4,
 "nbformat_minor": 2
}
