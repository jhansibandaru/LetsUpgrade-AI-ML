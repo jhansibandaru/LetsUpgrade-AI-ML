{
 "cells": [
  {
   "cell_type": "markdown",
   "metadata": {},
   "source": [
    "Write a program to subtract two complex numbers in python"
   ]
  },
  {
   "cell_type": "code",
   "execution_count": 21,
   "metadata": {},
   "outputs": [
    {
     "name": "stdout",
     "output_type": "stream",
     "text": [
      "enter a value: 2\n",
      "enter b value: 4\n",
      "enter c value: 6\n",
      "enter d value: 8\n",
      "(-4-4j)\n"
     ]
    }
   ],
   "source": [
    "a=int(input(\"enter a value: \"))\n",
    "b=int(input(\"enter b value: \"))\n",
    "c=int(input(\"enter c value: \"))\n",
    "d=int(input(\"enter d value: \"))\n",
    "p = complex(a,b)\n",
    "q = complex(c,d)\n",
    "print(p-q)"
   ]
  },
  {
   "cell_type": "markdown",
   "metadata": {},
   "source": [
    "write a program to find the fourth root of a number"
   ]
  },
  {
   "cell_type": "code",
   "execution_count": 22,
   "metadata": {},
   "outputs": [
    {
     "name": "stdout",
     "output_type": "stream",
     "text": [
      "Enter a value: 16\n",
      "Fourth root id:  2.0\n"
     ]
    }
   ],
   "source": [
    "a=int(input(\"Enter a value: \"))\n",
    "print(\"Fourth root id: \",pow(a,0.25))"
   ]
  },
  {
   "cell_type": "markdown",
   "metadata": {},
   "source": [
    "write a program to swap two numbers in python with the help of temporary variable"
   ]
  },
  {
   "cell_type": "code",
   "execution_count": 23,
   "metadata": {},
   "outputs": [
    {
     "name": "stdout",
     "output_type": "stream",
     "text": [
      "Enter a value: 12\n",
      "Enter b value: 7\n",
      "Before swaping: \n",
      "value of a = 12 and b = 7\n",
      "After swaping: \n",
      "value of a = 7 and b = 12\n"
     ]
    }
   ],
   "source": [
    "a=int(input(\"Enter a value: \"))\n",
    "b=int(input(\"Enter b value: \"))\n",
    "print(\"Before swaping: \")\n",
    "print(\"value of a =\",a,\"and b =\",b)\n",
    "c = a\n",
    "a = b\n",
    "b = c\n",
    "print(\"After swaping: \")\n",
    "print(\"value of a =\",a,\"and b =\",b)"
   ]
  },
  {
   "cell_type": "code",
   "execution_count": null,
   "metadata": {},
   "outputs": [],
   "source": [
    "write a program to swap two number in python "
   ]
  },
  {
   "cell_type": "code",
   "execution_count": 19,
   "metadata": {},
   "outputs": [
    {
     "name": "stdout",
     "output_type": "stream",
     "text": [
      "Enter x value: 6\n",
      "Enter y value: 8\n",
      "Before swaping\n",
      "value of x = 6 and y = 8\n",
      "After swaping\n",
      "value of x = 8 and y = 6\n"
     ]
    }
   ],
   "source": [
    "x = int(input(\"Enter x value: \"))\n",
    "y = int(input(\"Enter y value: \"))\n",
    "print(\"Before swaping\")\n",
    "print(\"value of x =\",x,\"and y =\",y)\n",
    "x ^= y\n",
    "y ^= x\n",
    "x ^= y\n",
    "print(\"After swaping\")\n",
    "print(\"value of x =\",x,\"and y =\",y)"
   ]
  },
  {
   "cell_type": "markdown",
   "metadata": {},
   "source": [
    "write a program to covert fahrenheit to kelvin and celsius both"
   ]
  },
  {
   "cell_type": "code",
   "execution_count": 15,
   "metadata": {},
   "outputs": [
    {
     "name": "stdout",
     "output_type": "stream",
     "text": [
      "Enter f value: 32\n",
      "tremperature in celsius:  0.0\n",
      "tremperature in kelvin:  273.15\n"
     ]
    }
   ],
   "source": [
    "f=int(input(\"Enter f value: \"))\n",
    "c=(f-32)*(5/9)\n",
    "k=(f-32)*(5/9)+273.15\n",
    "print(\"tremperature in celsius: \",c)\n",
    "print(\"tremperature in kelvin: \",k)"
   ]
  },
  {
   "cell_type": "markdown",
   "metadata": {},
   "source": [
    "write a program to demonstrate all the available data types in python.(Hint use type() function)"
   ]
  },
  {
   "cell_type": "code",
   "execution_count": 18,
   "metadata": {},
   "outputs": [
    {
     "name": "stdout",
     "output_type": "stream",
     "text": [
      "<class 'int'>\n",
      "<class 'bool'>\n",
      "<class 'float'>\n",
      "<class 'complex'>\n",
      "<class 'str'>\n",
      "<class 'list'>\n",
      "<class 'set'>\n",
      "<class 'tuple'>\n",
      "<class 'dict'>\n"
     ]
    }
   ],
   "source": [
    "a=12\n",
    "b=True\n",
    "c=24.09\n",
    "d=2+9j\n",
    "e=\"Jhansi\"\n",
    "l=[1,2,3,4]\n",
    "f={a,b,c,d}\n",
    "g=(5,6,7,8)\n",
    "k={\"name\":\"Jhansi\"}\n",
    "print(type(a))\n",
    "print(type(b))\n",
    "print(type(c))\n",
    "print(type(d))\n",
    "print(type(e))\n",
    "print(type(l))\n",
    "print(type(f))\n",
    "print(type(g))\n",
    "print(type(k))"
   ]
  },
  {
   "cell_type": "markdown",
   "metadata": {},
   "source": [
    "THE STEPS WE HAVE LEARNED AND DISCUSSED IN THE SESSION ARE:\n",
    "*Create a github public repo and name it LetsUpgrade Al/Ml.\n",
    "*Upload the files/solution in the repo in day wise manner.\n",
    "*Copy the url of the Folder of that day and paste in the Assignment Submission From which will be mentioned in this section after the class.\n",
    "*Make sure you are filling correct details in the Assignment Submission Form.\n",
    "*You have to upload the assignment solutions to your Github profie and submit the URL to us.\n",
    "*After that we need select the file which we have to submit.\n",
    "*then after we need to commit the changes.\n",
    "*then we will get the url that we need to keep the url in the assignment."
   ]
  },
  {
   "cell_type": "code",
   "execution_count": 26,
   "metadata": {},
   "outputs": [
    {
     "ename": "AttributeError",
     "evalue": "module 'os' has no attribute 'cwd'",
     "output_type": "error",
     "traceback": [
      "\u001b[1;31m---------------------------------------------------------------------------\u001b[0m",
      "\u001b[1;31mAttributeError\u001b[0m                            Traceback (most recent call last)",
      "\u001b[1;32m<ipython-input-26-5925e704f416>\u001b[0m in \u001b[0;36m<module>\u001b[1;34m()\u001b[0m\n\u001b[0;32m      1\u001b[0m \u001b[1;32mimport\u001b[0m \u001b[0mos\u001b[0m\u001b[1;33m\u001b[0m\u001b[0m\n\u001b[1;32m----> 2\u001b[1;33m \u001b[0mos\u001b[0m\u001b[1;33m.\u001b[0m\u001b[0mcwd\u001b[0m\u001b[1;33m(\u001b[0m\u001b[1;33m)\u001b[0m\u001b[1;33m\u001b[0m\u001b[0m\n\u001b[0m",
      "\u001b[1;31mAttributeError\u001b[0m: module 'os' has no attribute 'cwd'"
     ]
    }
   ],
   "source": [
    "import os\n",
    "os.cw"
   ]
  },
  {
   "cell_type": "code",
   "execution_count": null,
   "metadata": {},
   "outputs": [],
   "source": []
  }
 ],
 "metadata": {
  "kernelspec": {
   "display_name": "Python 3",
   "language": "python",
   "name": "python3"
  },
  "language_info": {
   "codemirror_mode": {
    "name": "ipython",
    "version": 3
   },
   "file_extension": ".py",
   "mimetype": "text/x-python",
   "name": "python",
   "nbconvert_exporter": "python",
   "pygments_lexer": "ipython3",
   "version": "3.6.5"
  }
 },
 "nbformat": 4,
 "nbformat_minor": 2
}
