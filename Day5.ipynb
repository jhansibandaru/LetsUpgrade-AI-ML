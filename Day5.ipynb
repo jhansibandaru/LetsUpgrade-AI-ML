{
 "cells": [
  {
   "cell_type": "markdown",
   "metadata": {},
   "source": [
    "__Write a Python program to find the first 20 non-even prime natural numbers__"
   ]
  },
  {
   "cell_type": "code",
   "execution_count": 2,
   "metadata": {},
   "outputs": [
    {
     "name": "stdout",
     "output_type": "stream",
     "text": [
      "1 3 5 7 11 13 17 19 23 29 31 37 41 43 47 53 59 61 67 71 "
     ]
    }
   ],
   "source": [
    "def isprime(n):\n",
    "    count=0\n",
    "    for i in range(2,n):\n",
    "        if n%i == 0: \n",
    "            count += 1\n",
    "    if(count == 0):\n",
    "        return True\n",
    "    return False\n",
    "\n",
    "i = 1\n",
    "count=0\n",
    "while(count < 20):\n",
    "    if i%2!=0:\n",
    "        if isprime(i):\n",
    "            print(i,end=\" \")\n",
    "            count+=1\n",
    "    i+=1;"
   ]
  },
  {
   "cell_type": "markdown",
   "metadata": {},
   "source": [
    "__Write a Python program to implement 15 functions of string__"
   ]
  },
  {
   "cell_type": "code",
   "execution_count": 2,
   "metadata": {},
   "outputs": [
    {
     "name": "stdout",
     "output_type": "stream",
     "text": [
      "jhansi bandaruPRIYANKA\n",
      "JHANSI BANDARU\n",
      "JHANSI BANDARU\n",
      "jhansi bandaru\n",
      "phansi bandaru\n",
      "14\n",
      "12\n",
      "12\n",
      "Jhansi bandaru\n",
      "         PRIYANKA        \n",
      "2\n",
      "False\n",
      "False\n",
      "True\n",
      "False\n",
      "3\n",
      "priyanka\n"
     ]
    }
   ],
   "source": [
    "a1=\"jhansi bandaru\"\n",
    "a2=\"PRIYANKA\"\n",
    "print(a1+a2) #it will add the two strings.\n",
    "print(a1.swapcase()) #Swaps cases, lower case becomes upper case and vice versa.\n",
    "print(a1.upper())  #converts the string into upper case.\n",
    "print(a1.lower())  #converts the string into lower case.\n",
    "print(a1.replace('j','p')) #Returns a string where a specified value is replaced with a specified value.\n",
    "print(len(a1))    #it will shows us the length of the given string.\n",
    "print(a1.find('r'))  #Searches the string for a specified value and returns the position of where it was found.\n",
    "print(a1.find('r',10,13))  #Searches the string for a specified value and returns the position of where it was found.\n",
    "print(a1.capitalize()) # it will Converts the first character to upper case.\n",
    "print(a2.center(25)) #it will return th string to the center acording to our input.\n",
    "print(a1.index('a')) #it will Searches the string for a specified value and returns the position of where it was found.\n",
    "print(a1.isalpha()) #it returns us the true if our string contains all alphabets or it returs us False.\n",
    "print(a1.isdecimal()) #Returns True if all characters in the string are decimals.\n",
    "print(a1.islower())  #Returns True if all characters in the string are lower case.\n",
    "print(a1.isupper())  #Returns True if all characters in the string are upper case.\n",
    "print(a1.count('a')) #Returns the number of times a specified value occurs in a string.\n",
    "print(a2.casefold()) #Converts string into lower case."
   ]
  },
  {
   "cell_type": "markdown",
   "metadata": {},
   "source": [
    "__Write a Python program to check if the given string is a Palindrome or Anagram or None of them. Display the message accordingly to the user__"
   ]
  },
  {
   "cell_type": "code",
   "execution_count": 6,
   "metadata": {},
   "outputs": [
    {
     "name": "stdout",
     "output_type": "stream",
     "text": [
      "enter first string: adcda\n",
      "enter second string acica\n",
      "adcda is palindrome\n",
      "acica is a palindrome\n",
      "adcda ans acica are not a anagrams\n"
     ]
    }
   ],
   "source": [
    "def ispalindrome(s):\n",
    "    if s==s[::-1]:\n",
    "        return True\n",
    "    return False\n",
    "\n",
    "def isanagram(s,s1):\n",
    "    s=sorted(s)\n",
    "    s1=sorted(s1)\n",
    "    if(s == s1):\n",
    "        return True\n",
    "    return False\n",
    "s=input(\"enter first string: \")\n",
    "s1=input(\"enter second string \")\n",
    "if(ispalindrome(s)):\n",
    "    print(s,\"is palindrome\")\n",
    "else:\n",
    "    print(s,\"is not a palindrome\")\n",
    "if(ispalindrome(s1)):\n",
    "    print(s1,\"is a palindrome\")\n",
    "else:\n",
    "    print(s1,\"is not a palindrome\")\n",
    "if(isanagram(s,s1)):\n",
    "    print(s,\"ans\",s1,\"are a anagrams\")\n",
    "else:\n",
    "    print(s,\"ans\",s1,\"are not a anagrams\")"
   ]
  },
  {
   "cell_type": "markdown",
   "metadata": {},
   "source": [
    "__Write a Python's user defined function that removes all the additional characters from the string and converts it finally to lower case using built-in lower(). eg: If the string is \"Dr. Darshan Ingle @AI-ML Trainer\", then the output be \"drdarshaningle aimltrainer\".__\n",
    " "
   ]
  },
  {
   "cell_type": "code",
   "execution_count": 8,
   "metadata": {},
   "outputs": [
    {
     "name": "stdout",
     "output_type": "stream",
     "text": [
      "bjhansipriyankaaimltrainer\n"
     ]
    }
   ],
   "source": [
    "def toremove(a):\n",
    "    b = \"\"\n",
    "    for i in a:\n",
    "        if((ord(i) > 64 and ord(i) < 91) or (ord(i) > 96 and ord(i) < 123)):\n",
    "            b += i\n",
    "    return b\n",
    "s = toremove(\"B . Jhansi Priyanka @AI-ML Trainer\")\n",
    "print(s.lower())"
   ]
  },
  {
   "cell_type": "code",
   "execution_count": null,
   "metadata": {},
   "outputs": [],
   "source": []
  }
 ],
 "metadata": {
  "kernelspec": {
   "display_name": "Python 3",
   "language": "python",
   "name": "python3"
  },
  "language_info": {
   "codemirror_mode": {
    "name": "ipython",
    "version": 3
   },
   "file_extension": ".py",
   "mimetype": "text/x-python",
   "name": "python",
   "nbconvert_exporter": "python",
   "pygments_lexer": "ipython3",
   "version": "3.6.5"
  }
 },
 "nbformat": 4,
 "nbformat_minor": 2
}
