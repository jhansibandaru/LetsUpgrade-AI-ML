{
 "cells": [
  {
   "cell_type": "markdown",
   "metadata": {},
   "source": [
    "__Research on whether addition, subtraction, multiplication, division, floor division and modulo\n",
    "operations be performed on complex numbers. Based on your study, implement a Python\n",
    "program to demonstrate these operations.__"
   ]
  },
  {
   "cell_type": "code",
   "execution_count": 2,
   "metadata": {},
   "outputs": [
    {
     "name": "stdout",
     "output_type": "stream",
     "text": [
      "enter a value: 2\n",
      "enter b value: 4\n",
      "enter c value: 6\n",
      "enter d value: 8\n",
      "(-4-4j)\n",
      "(8+12j)\n",
      "(-20+40j)\n",
      "(0.44+0.08j)\n"
     ]
    }
   ],
   "source": [
    "a=int(input(\"enter a value: \"))\n",
    "b=int(input(\"enter b value: \"))\n",
    "c=int(input(\"enter c value: \"))\n",
    "d=int(input(\"enter d value: \"))\n",
    "p = complex(a,b)\n",
    "q = complex(c,d)\n",
    "print(p-q)\n",
    "print(p+q)\n",
    "print(p*q)\n",
    "print(p/q)\n",
    "\n",
    "#As per my research floor division and modulo operation cant be done on the complex number."
   ]
  },
  {
   "cell_type": "markdown",
   "metadata": {},
   "source": [
    "__Research on range() functions and its parameters. Create a markdown cell and write in your own\n",
    "words (no copy-paste from google please) what you understand about it. Implement a small\n",
    "program of your choice on the same.__"
   ]
  },
  {
   "cell_type": "markdown",
   "metadata": {},
   "source": [
    "range function(): when we want to iterate between the upper limit and lower limit then we will use the range() function.\n",
    "range(stop) : When we call range() with one argument, we will get a series of numbers that starts at 0 and includes every whole number up to, but not including, the number that user have provided as the stop.\n",
    "\n",
    "range(start,stop) : When we call range() with two arguments, we get to decide not only where the series of numbers stops but also where it starts, so we don’t have to start at 0 all the time. we can use range() to generate a series of numbers from A to B using a range(A, B).\n",
    "\n",
    "range(start,stop,step) : When we call range() with three arguments, we can choose not only where the series of numbers will start and stop but also how big the difference will be between one number and the next. If we don’t provide a step, then range() will automatically behave as if the step is 1.or we can given what we want to be the difference between them. \n",
    "\n",
    "if we want to decrement, then we need step to be a negative number\n",
    "\n",
    "we can not use float or any non-int argument in the python range() function.\n",
    "\n",
    "Concatenation of two range(): we can concatenate the two range functions by using the chain() function.\n",
    "\n",
    "Accessing rangew() with index value : range() support both the positive and negative indexing___"
   ]
  },
  {
   "cell_type": "code",
   "execution_count": 3,
   "metadata": {},
   "outputs": [
    {
     "name": "stdout",
     "output_type": "stream",
     "text": [
      "0 1 2 3 4 \n",
      "1 2 3 4 5 6 7 8 9 \n",
      "0 3 6 9 12 15 18 \n"
     ]
    }
   ],
   "source": [
    "for i in range(5):\n",
    "    print(i, end=\" \")\n",
    "print()\n",
    "\n",
    "for i in range(1, 10): \n",
    "    print(i, end =\" \") \n",
    "print()\n",
    "\n",
    "for i in range(0, 20, 3): \n",
    "    print(i, end = \" \") \n",
    "print()\n"
   ]
  },
  {
   "cell_type": "markdown",
   "metadata": {},
   "source": [
    "__Consider two numbers. Perform their subtraction and if the result of subtraction is greater than\n",
    "25, print their multiplication result else print their division result.__"
   ]
  },
  {
   "cell_type": "code",
   "execution_count": 4,
   "metadata": {},
   "outputs": [
    {
     "name": "stdout",
     "output_type": "stream",
     "text": [
      "Enter a value: 50\n",
      "Enter b value: 30\n",
      "1.6666666666666667\n"
     ]
    }
   ],
   "source": [
    "a=int(input(\"Enter a value: \"))\n",
    "b=int(input(\"Enter b value: \"))\n",
    "c = a-b\n",
    "if c > 25:\n",
    "    print(a*b)\n",
    "else:\n",
    "    print(a/b)"
   ]
  },
  {
   "cell_type": "markdown",
   "metadata": {},
   "source": [
    "__Consider a list of 10 elements of integer values. If the number in the list is divisible by 2, print the\n",
    "result as \"square of that number minus 2\".__"
   ]
  },
  {
   "cell_type": "code",
   "execution_count": 7,
   "metadata": {},
   "outputs": [
    {
     "name": "stdout",
     "output_type": "stream",
     "text": [
      "142\n",
      "194\n",
      "254\n",
      "322\n",
      "62\n",
      "34\n"
     ]
    }
   ],
   "source": [
    "li=[12,14,13,15,16,17,18,8,7,6]\n",
    "for i in li:\n",
    "    if i%2==0:\n",
    "        print(pow(i,2)-2)"
   ]
  },
  {
   "cell_type": "markdown",
   "metadata": {},
   "source": [
    "__Consider a list of 10 elements. Print all the elements in the list which are greater than 7 when that\n",
    "number is divided 2.__"
   ]
  },
  {
   "cell_type": "code",
   "execution_count": 8,
   "metadata": {},
   "outputs": [
    {
     "name": "stdout",
     "output_type": "stream",
     "text": [
      "8\n",
      "10\n",
      "12\n"
     ]
    }
   ],
   "source": [
    "l=[2,3,4,5,6,7,8,9,10,12]\n",
    "for i in l:\n",
    "    if i > 7 and i%2==0:\n",
    "        print(i)"
   ]
  },
  {
   "cell_type": "code",
   "execution_count": null,
   "metadata": {},
   "outputs": [],
   "source": []
  }
 ],
 "metadata": {
  "kernelspec": {
   "display_name": "Python 3",
   "language": "python",
   "name": "python3"
  },
  "language_info": {
   "codemirror_mode": {
    "name": "ipython",
    "version": 3
   },
   "file_extension": ".py",
   "mimetype": "text/x-python",
   "name": "python",
   "nbconvert_exporter": "python",
   "pygments_lexer": "ipython3",
   "version": "3.6.5"
  }
 },
 "nbformat": 4,
 "nbformat_minor": 2
}
